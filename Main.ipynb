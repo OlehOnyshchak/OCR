{
 "cells": [
  {
   "cell_type": "code",
   "execution_count": 19,
   "metadata": {},
   "outputs": [],
   "source": [
    "from keras.models import load_model\n",
    "import pandas as pd\n",
    "import numpy as np\n",
    "from PIL import Image,ImageOps\n",
    "import CharacterSegmentation as cs\n",
    "import os"
   ]
  },
  {
   "cell_type": "code",
   "execution_count": 20,
   "metadata": {},
   "outputs": [],
   "source": [
    "INPUT_IMAGE = './input/input.jpg'\n",
    "\n",
    "EMNIST_PATH = './data/emnist/'\n",
    "mapping_processed = EMNIST_PATH + 'processed-mapping.csv'"
   ]
  },
  {
   "cell_type": "markdown",
   "metadata": {},
   "source": [
    "## Character Segmentation"
   ]
  },
  {
   "cell_type": "code",
   "execution_count": 21,
   "metadata": {},
   "outputs": [
    {
     "name": "stdout",
     "output_type": "stream",
     "text": [
      "\n",
      "........Program Initiated.......\n",
      "\n",
      "\n",
      " Resizing Image........\n",
      "#---------Image Info:--------#\n",
      "\tHeight = 352 \n",
      "\tWidth = 1320\n",
      "#----------------------------#\n",
      "Applying Adaptive Threshold with kernel :- 21 X 21\n",
      "Noise Removal From Image.........\n",
      "Beginning Character Semenation..............\n",
      "\n",
      "Given Text has   #  1  #   no. of lines\n",
      "\n",
      "Average Width of Each Letter:-  87.2\n"
     ]
    }
   ],
   "source": [
    "cs.image_segmentation(INPUT_IMAGE)"
   ]
  },
  {
   "cell_type": "markdown",
   "metadata": {},
   "source": [
    "## Converting Segmented Characters to EMNIST format"
   ]
  },
  {
   "cell_type": "code",
   "execution_count": 22,
   "metadata": {},
   "outputs": [],
   "source": [
    "def img2emnist(filepath, char_code):\n",
    "    img = Image.open(filepath).resize((28, 28))\n",
    "    inv_img = ImageOps.invert(img)\n",
    "    \n",
    "    flatten = np.array(inv_img).flatten()\n",
    "    flatten = flatten / 255\n",
    "    flatten = np.where(flatten > 0.5, 1, 0)\n",
    "    \n",
    "    csv_img = ','.join([str(num) for num in flatten])\n",
    "    csv_str = '{},{}'.format(char_code, csv_img)\n",
    "    return csv_str"
   ]
  },
  {
   "cell_type": "code",
   "execution_count": 24,
   "metadata": {},
   "outputs": [],
   "source": [
    "temp_filename = 'test.csv'\n",
    "if os.path.exists(temp_filename):\n",
    "    os.remove(temp_filename)\n",
    "\n",
    "f_test = open(temp_filename, 'a+')\n",
    "files = [f for r, d, f in os.walk('segmented')][0]\n",
    "for f in files:\n",
    "    csv = img2emnist('segmented/' + f, -1)\n",
    "    print(csv, file=f_test)\n",
    "    \n",
    "f_test.close()"
   ]
  },
  {
   "cell_type": "markdown",
   "metadata": {},
   "source": [
    "## Character Recognition"
   ]
  },
  {
   "cell_type": "code",
   "execution_count": 25,
   "metadata": {},
   "outputs": [],
   "source": [
    "names = [\"label\"] + [\"pixel\" + str(i) for i in range(784)]\n",
    "                     \n",
    "data = pd.read_csv(temp_filename, header=None, names=names)\n",
    "X_data = data.drop(labels = [\"label\"], axis = 1)\n",
    "X_data = X_data.values.reshape(-1,28,28,1)\n",
    "del data"
   ]
  },
  {
   "cell_type": "code",
   "execution_count": 26,
   "metadata": {},
   "outputs": [],
   "source": [
    "df = pd.read_csv(mapping_processed)\n",
    "code2char = {}\n",
    "for index, row in df.iterrows():\n",
    "    code2char[row['id']] = row['char']"
   ]
  },
  {
   "cell_type": "code",
   "execution_count": 23,
   "metadata": {},
   "outputs": [],
   "source": [
    "model = load_model('model/alphanum_model_binary_ex_88.h5')"
   ]
  },
  {
   "cell_type": "code",
   "execution_count": 27,
   "metadata": {
    "scrolled": true
   },
   "outputs": [
    {
     "data": {
      "text/plain": [
       "'X4tQXt4UD'"
      ]
     },
     "execution_count": 27,
     "metadata": {},
     "output_type": "execute_result"
    }
   ],
   "source": [
    "# predict results\n",
    "results = model.predict(X_data)\n",
    "\n",
    "# select the index with the maximum probability\n",
    "results = np.argmax(results, axis = 1)\n",
    "parsed_str = \"\"\n",
    "for r in results:\n",
    "    parsed_str += code2char[r]\n",
    "\n",
    "parsed_str"
   ]
  }
 ],
 "metadata": {
  "kernelspec": {
   "display_name": "Python 3",
   "language": "python",
   "name": "python3"
  },
  "language_info": {
   "codemirror_mode": {
    "name": "ipython",
    "version": 3
   },
   "file_extension": ".py",
   "mimetype": "text/x-python",
   "name": "python",
   "nbconvert_exporter": "python",
   "pygments_lexer": "ipython3",
   "version": "3.6.5"
  }
 },
 "nbformat": 4,
 "nbformat_minor": 2
}
