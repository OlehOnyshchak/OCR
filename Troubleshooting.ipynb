{
 "cells": [
  {
   "cell_type": "markdown",
   "metadata": {},
   "source": [
    "# Troubleshooting"
   ]
  },
  {
   "cell_type": "markdown",
   "metadata": {},
   "source": [
    "## Kernel died on import keras\n",
    "* Uninstall h5py via anaconda navigator, some relative libs (tensorflow) will be uninstalled as well.\n",
    "* Go VM path in anaconda installation, D:\\Anaconda\\envs\\YOUR_VM\\Lib\\site-packages, delete h5py and h5py-2.8.0-py3.6.egg-info folders\n",
    "* Reinstall tensorflow or tensorflow-gpu\n",
    "\n",
    "https://stackoverflow.com/questions/53062798/tensorflow-importing-crashes-python-without-any-error-on-windows"
   ]
  },
  {
   "cell_type": "markdown",
   "metadata": {},
   "source": [
    "## Tensorflow is installed but can't be found by python import\n",
    "pip install tensorflow==1.2.0 --ignore-installed\n",
    "https://stackoverflow.com/questions/42244198/importerror-no-module-named-tensorflow"
   ]
  }
 ],
 "metadata": {
  "kernelspec": {
   "display_name": "Python 3",
   "language": "python",
   "name": "python3"
  },
  "language_info": {
   "codemirror_mode": {
    "name": "ipython",
    "version": 3
   },
   "file_extension": ".py",
   "mimetype": "text/x-python",
   "name": "python",
   "nbconvert_exporter": "python",
   "pygments_lexer": "ipython3",
   "version": "3.6.5"
  }
 },
 "nbformat": 4,
 "nbformat_minor": 2
}
