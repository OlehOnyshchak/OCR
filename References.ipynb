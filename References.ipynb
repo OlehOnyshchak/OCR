{
 "cells": [
  {
   "cell_type": "markdown",
   "metadata": {},
   "source": [
    "# Related works"
   ]
  },
  {
   "cell_type": "markdown",
   "metadata": {},
   "source": [
    "## Blogs & Posts\n",
    "* [Kaggle tutorial for character recognition system](https://www.kaggle.com/yassineghouzam/introduction-to-cnn-keras-0-997-top-6) - detailed explanation for simple handwritten digit recognition with CNN. It covers each step starting from data preparation to final accuracy checking. Examples are implemented in pythong with keras API (Tensorflow backend).\n",
    "* [Blog for simple equation recognition using OpenCV and Tesseract](https://blog.ayoungprogrammer.com/2013/01/equation-ocr-part-1-using-contours-to.html/)"
   ]
  },
  {
   "cell_type": "markdown",
   "metadata": {},
   "source": [
    "## Videos\n",
    "* [MIT 6.S191 (2018): Convolutional Neural Networks](https://www.youtube.com/watch?time_continue=1&v=NVH8EYPHi30)"
   ]
  },
  {
   "cell_type": "markdown",
   "metadata": {},
   "source": [
    "## Libraries\n",
    "* [Tesseract](https://github.com/tesseract-ocr/tesseract) - library for Optical Character Recognition\n",
    "* [OpenCV](https://opencv.org/) - huge library for miscellaneous CV-related algorithms"
   ]
  },
  {
   "cell_type": "markdown",
   "metadata": {},
   "source": [
    "## Datasets\n",
    "* [Kaggle handwritten math symbols dataset](https://www.kaggle.com/xainano/handwrittenmathsymbols) - Dataset consists of jpg files(45x45) DISCLAIMER: dataset does not contain Hebrew alphabet at all. It includes basic Greek alphabet symbols like: alpha, beta, gamma, mu, sigma, phi and theta. English alphanumeric symbols are included. All math operators, set operators. Basic pre-defined math functions like: log, lim, cos, sin, tan. Math symbols like: \\int, \\sum, \\sqrt, \\delta and more.\n",
    "* [THE MNIST DATABASE of handwritten digits](http://yann.lecun.com/exdb/mnist/) - has a training set of 60,000 examples, and a test set of 10,000 examples. It is a subset of a larger set available from NIST. The digits have been size-normalized and centered in a fixed-size image. The original black and white (bilevel) images from NIST were size normalized to fit in a 20x20 pixel box while preserving their aspect ratio."
   ]
  }
 ],
 "metadata": {
  "kernelspec": {
   "display_name": "Python 3",
   "language": "python",
   "name": "python3"
  },
  "language_info": {
   "codemirror_mode": {
    "name": "ipython",
    "version": 3
   },
   "file_extension": ".py",
   "mimetype": "text/x-python",
   "name": "python",
   "nbconvert_exporter": "python",
   "pygments_lexer": "ipython3",
   "version": "3.5.6"
  }
 },
 "nbformat": 4,
 "nbformat_minor": 2
}
