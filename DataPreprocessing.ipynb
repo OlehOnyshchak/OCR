{
 "cells": [
  {
   "cell_type": "markdown",
   "metadata": {},
   "source": [
    "# Data Preprocessing\n",
    "## Remove duplicated images from CROHME dataset"
   ]
  },
  {
   "cell_type": "code",
   "execution_count": null,
   "metadata": {},
   "outputs": [],
   "source": [
    "import imageio\n",
    "import numpy as np\n",
    "import os\n",
    "\n",
    "# source - https://www.kaggle.com/xainano/handwrittenmathsymbols/discussion/85277\n",
    "def deletefromfolder(path):\n",
    "    datadir = path\n",
    "    print('Directory:', datadir)\n",
    "\n",
    "    rmmap = dict()\n",
    "    total = 0\n",
    "    repeatcnt = 0\n",
    "    for root, directories, filenames in os.walk(datadir):\n",
    "        for filename in filenames:\n",
    "            total += 1\n",
    "            if filename.endswith('.jpg') and not filename.startswith('._'):\n",
    "                filei = os.path.join(root, filename)\n",
    "                imi = imageio.imread(filei)\n",
    "                npi = np.asarray(imi).reshape(1, -1).reshape((2025, ))\n",
    "                idf = npi.tolist()\n",
    "                for i in range(len(idf)):\n",
    "                    idf[i] = str(idf[i])\n",
    "                strlist = ''.join(idf)\n",
    "\n",
    "                if strlist in rmmap.keys():\n",
    "                    repeatcnt += 1\n",
    "                    rmmap[strlist].append(filename)\n",
    "                else:\n",
    "                    rmmap[strlist] = list()\n",
    "\n",
    "    #for key in rmmap:\n",
    "    #    print(rmmap[key])\n",
    "    print('Repeat/Total: {}/{}'.format(repeatcnt, total))\n",
    "    for key in rmmap:\n",
    "        for item in rmmap[key]:\n",
    "            os.remove(os.path.join(datadir, item))\n",
    "\n",
    "images_path = './data/crohme/'\n",
    "dirlist = os.listdir(images_path)\n",
    "for item in dirlist:\n",
    "    deletefromfolder(os.path.join(images_path,item))"
   ]
  },
  {
   "cell_type": "markdown",
   "metadata": {},
   "source": [
    "## Mapping"
   ]
  },
  {
   "cell_type": "code",
   "execution_count": 22,
   "metadata": {},
   "outputs": [],
   "source": [
    "import pandas as pd\n",
    "\n",
    "df = pd.read_csv(\"data/emnist/emnist-balanced-mapping.txt\", sep = ' ', header=None, names=[\"id\", \"code\"])\n",
    "chars = []\n",
    "for x in df.code:\n",
    "    chars.append(chr(x))\n",
    "    \n",
    "df[\"char\"] = chars\n",
    "df.to_csv(\"data/emnist/processed-mapping.csv\", index=False)"
   ]
  },
  {
   "cell_type": "markdown",
   "metadata": {},
   "source": [
    "## Image transformation to EMNIST format"
   ]
  },
  {
   "cell_type": "code",
   "execution_count": 11,
   "metadata": {},
   "outputs": [],
   "source": [
    "import numpy as np\n",
    "import pandas as pd\n",
    "from PIL import Image,ImageOps\n",
    "import matplotlib.pyplot as plt\n",
    "\n",
    "names = [\"label\"] + [\"pixel\" + str(i) for i in range(784)]\n",
    "                     \n",
    "test = pd.read_csv(\"data/emnist/emnist-balanced-test.csv\", nrows=10, header=None, names=names)"
   ]
  },
  {
   "cell_type": "code",
   "execution_count": 12,
   "metadata": {},
   "outputs": [],
   "source": [
    "Y_test = test[\"label\"]\n",
    "X_test = test.drop(labels = [\"label\"], axis = 1)\n",
    "del test"
   ]
  },
  {
   "cell_type": "code",
   "execution_count": 13,
   "metadata": {},
   "outputs": [],
   "source": [
    "X_test = X_test.values.reshape(-1,28,28,1)"
   ]
  },
  {
   "cell_type": "code",
   "execution_count": 43,
   "metadata": {},
   "outputs": [
    {
     "data": {
      "image/png": "[encoded data removed]",
      "text/plain": [
       "<Figure size 432x288 with 1 Axes>"
      ]
     },
     "metadata": {
      "needs_background": "light"
     },
     "output_type": "display_data"
    }
   ],
   "source": [
    "index = Y_test[Y_test == 33].index[0]\n",
    "emnist_img = X_test[index][:,:,0]\n",
    "g = plt.imshow(emnist_img)"
   ]
  },
  {
   "cell_type": "code",
   "execution_count": 37,
   "metadata": {},
   "outputs": [
    {
     "data": {
      "text/plain": [
       "<matplotlib.image.AxesImage at 0x2628b124d30>"
      ]
     },
     "execution_count": 37,
     "metadata": {},
     "output_type": "execute_result"
    },
    {
     "data": {
      "image/png": "[encoded data removed]",
      "text/plain": [
       "<Figure size 432x288 with 1 Axes>"
      ]
     },
     "metadata": {
      "needs_background": "light"
     },
     "output_type": "display_data"
    }
   ],
   "source": [
    "img = Image.open('segmented/1_1_1.jpg').resize((28, 28))\n",
    "plt.imshow(img)"
   ]
  },
  {
   "cell_type": "code",
   "execution_count": 38,
   "metadata": {},
   "outputs": [
    {
     "data": {
      "text/plain": [
       "<matplotlib.image.AxesImage at 0x2628b1af940>"
      ]
     },
     "execution_count": 38,
     "metadata": {},
     "output_type": "execute_result"
    },
    {
     "data": {
      "image/png": "[encoded data removed]",
      "text/plain": [
       "<Figure size 432x288 with 1 Axes>"
      ]
     },
     "metadata": {
      "needs_background": "light"
     },
     "output_type": "display_data"
    }
   ],
   "source": [
    "inv_img = ImageOps.invert(img)\n",
    "plt.imshow(inv_img)"
   ]
  },
  {
   "cell_type": "code",
   "execution_count": 40,
   "metadata": {
    "scrolled": false
   },
   "outputs": [
    {
     "data": {
      "text/plain": [
       "'0,0,0,0,0,1,0,0,0,0,0,0,0,0,0,0,0,0,0,0,0,0,0,3,0,0,1,0,0,0,0,0,0,255,2,0,0,0,0,0,0,0,0,0,0,0,0,0,0,0,0,0,254,254,255,0,0,0,0,0,0,253,253,0,3,0,0,0,0,0,0,0,0,0,0,0,0,0,0,255,255,255,255,0,0,0,0,0,0,255,255,253,0,0,1,0,0,0,0,0,0,0,0,0,1,1,254,255,255,255,1,0,0,0,0,0,0,255,3,254,254,0,1,0,0,0,0,0,0,0,3,0,255,255,255,0,1,0,0,0,0,0,0,0,0,0,0,0,253,255,0,0,0,0,0,0,0,0,1,255,253,255,0,0,0,0,0,0,0,0,0,0,0,0,0,0,2,253,249,0,0,0,0,0,0,0,255,255,1,0,0,0,0,0,0,0,0,0,0,0,0,0,0,0,0,0,253,255,1,0,0,0,0,255,250,0,1,0,0,0,0,0,0,0,0,0,0,0,0,0,0,0,0,1,254,253,0,1,0,0,255,254,2,0,0,0,0,0,0,0,0,0,0,0,0,0,0,0,0,0,0,4,0,254,252,0,0,255,255,0,0,0,0,0,0,0,0,0,0,0,0,0,0,0,0,0,0,0,0,0,0,0,255,255,255,0,0,0,0,0,0,0,0,0,0,0,0,0,0,0,0,0,0,0,0,0,0,0,0,0,255,254,253,3,0,0,0,0,0,0,0,0,0,0,0,0,0,0,0,0,0,0,0,0,0,2,0,255,255,255,254,4,0,0,0,0,0,0,0,0,0,0,0,0,0,0,0,0,0,0,0,0,0,2,255,255,255,0,255,255,0,0,0,0,0,0,0,0,0,0,0,0,0,0,0,0,0,0,0,0,2,250,255,2,0,0,255,255,0,1,0,0,0,0,0,0,0,0,0,0,0,0,0,0,0,0,0,2,254,253,253,0,0,0,0,255,255,3,0,0,0,0,0,0,0,0,0,0,0,0,0,0,0,0,0,255,255,254,3,0,0,0,4,253,254,255,0,0,0,0,0,0,0,0,0,0,0,0,0,0,0,1,0,253,252,0,0,0,0,0,0,0,253,255,1,1,0,0,0,0,0,0,0,0,0,0,0,0,0,0,255,255,0,0,0,0,0,0,0,0,2,255,255,0,1,0,0,0,0,0,0,0,0,0,0,0,0,253,252,0,0,0,0,0,0,0,0,0,0,254,255,255,3,0,0,0,0,0,0,0,0,0,0,0,0,255,251,0,0,0,0,0,0,0,0,0,0,0,254,255,0,0,0,0,0,0,0,0,0,0,5,0,255,255,0,0,0,0,0,0,0,0,0,0,5,1,253,253,255,0,0,0,0,0,0,0,0,0,0,254,253,250,0,0,0,0,0,0,0,0,0,0,0,0,0,255,253,1,0,0,0,0,0,0,0,0,3,255,255,0,0,0,0,0,0,0,0,0,0,0,3,0,0,255,255,1,0,0,0,0,0,0,4,0,253,253,0,0,0,0,0,0,0,0,0,0,0,0,3,0,254,253,255,255,0,0,0,0,0,0,0,0,255,255,1,0,0,0,0,0,0,0,0,0,0,0,1,0,0,0,255,255,2,0,0,0,0,0,0,255,252,4,0,0,0,0,0,0,0,0,0,0,0,0,0,0,3,0,0,0,0,0,0,0,0,0,0,0,0,0,0,0,0,0,0,0,0,0,0,0,0,0,0,0,0,0,0,0,0,0,0,0,0,0'"
      ]
     },
     "execution_count": 40,
     "metadata": {},
     "output_type": "execute_result"
    }
   ],
   "source": [
    "flatten = np.array(inv_img).flatten()\n",
    "csv_img = ','.join([str(num) for num in flatten])\n",
    "csv_str = '{},{}'.format(33, csv_img)\n",
    "csv_img"
   ]
  },
  {
   "cell_type": "code",
   "execution_count": 42,
   "metadata": {},
   "outputs": [],
   "source": [
    "# Open a file for output\n",
    "f = open(\"test.csv\", \"a\") \n",
    "\n",
    "print(csv_str, file=f)\n",
    "    \n",
    "# close file\n",
    "f.close()"
   ]
  }
 ],
 "metadata": {
  "kernelspec": {
   "display_name": "Python 3",
   "language": "python",
   "name": "python3"
  },
  "language_info": {
   "codemirror_mode": {
    "name": "ipython",
    "version": 3
   },
   "file_extension": ".py",
   "mimetype": "text/x-python",
   "name": "python",
   "nbconvert_exporter": "python",
   "pygments_lexer": "ipython3",
   "version": "3.5.6"
  }
 },
 "nbformat": 4,
 "nbformat_minor": 2
}
